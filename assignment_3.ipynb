{
 "cells": [
  {
   "cell_type": "code",
   "execution_count": 2,
   "metadata": {},
   "outputs": [
    {
     "name": "stdout",
     "output_type": "stream",
     "text": [
      "0.10185185185185185\n"
     ]
    }
   ],
   "source": [
    "#question 1\n",
    "def cal(a,b,c):\n",
    "    res=(a*b)/c\n",
    "    return res\n",
    "prb_a=11/36\n",
    "prb_b=6/36\n",
    "prb_a_b=2/36\n",
    "prb_b_a=cal(prb_a_b,prb_a,prb_b)\n",
    "print(prb_b_a)"
   ]
  },
  {
   "cell_type": "code",
   "execution_count": 3,
   "metadata": {},
   "outputs": [
    {
     "name": "stdout",
     "output_type": "stream",
     "text": [
      "0.5833333333333334\n"
     ]
    }
   ],
   "source": [
    "#question 2\n",
    "no_w_1=4\n",
    "no_b_1=6\n",
    "no_w_2=4\n",
    "no_b_2=3\n",
    "prb_1=1/2\n",
    "prb_b=((1/2)*(no_b_1/(no_b_1+no_w_1)))+((1/2)*(no_b_2/(no_b_2+no_w_2)))\n",
    "prb_b_1=(no_b_1/(no_b_1+no_w_1))\n",
    "prb_1_b=(prb_b_1*prb_1)/prb_b\n",
    "print(prb_1_b)"
   ]
  },
  {
   "cell_type": "code",
   "execution_count": 4,
   "metadata": {},
   "outputs": [
    {
     "name": "stdout",
     "output_type": "stream",
     "text": [
      "0.2857142857142857\n"
     ]
    }
   ],
   "source": [
    "#question 3\n",
    "prb_4=1/6\n",
    "prb_other=5/6\n",
    "prb_true=2/3\n",
    "prb_false=1/3\n",
    "prb_says4=(prb_4*prb_true)+(prb_other*prb_false)\n",
    "prb_4_says4=(prb_4*prb_true)/prb_says4\n",
    "print(prb_4_says4)"
   ]
  }
 ],
 "metadata": {
  "kernelspec": {
   "display_name": "Python 3",
   "language": "python",
   "name": "python3"
  },
  "language_info": {
   "codemirror_mode": {
    "name": "ipython",
    "version": 3
   },
   "file_extension": ".py",
   "mimetype": "text/x-python",
   "name": "python",
   "nbconvert_exporter": "python",
   "pygments_lexer": "ipython3",
   "version": "3.6.3"
  }
 },
 "nbformat": 4,
 "nbformat_minor": 2
}
